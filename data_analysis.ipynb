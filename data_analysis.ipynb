{
  "nbformat": 4,
  "nbformat_minor": 0,
  "metadata": {
    "colab": {
      "name": "data_analysis.ipynb",
      "provenance": [],
      "authorship_tag": "ABX9TyOqPoeZmBx9Fei4o+6nWpUd",
      "include_colab_link": true
    },
    "kernelspec": {
      "name": "python3",
      "display_name": "Python 3"
    }
  },
  "cells": [
    {
      "cell_type": "markdown",
      "metadata": {
        "id": "view-in-github",
        "colab_type": "text"
      },
      "source": [
        "<a href=\"https://colab.research.google.com/github/AlexHudnev/data_analysis/blob/main/data_analysis.ipynb\" target=\"_parent\"><img src=\"https://colab.research.google.com/assets/colab-badge.svg\" alt=\"Open In Colab\"/></a>"
      ]
    },
    {
      "cell_type": "code",
      "metadata": {
        "colab": {
          "base_uri": "https://localhost:8080/"
        },
        "id": "hjG8v2FwdEys",
        "outputId": "37450a52-63aa-4fa4-f6c2-edd54d46c5d7"
      },
      "source": [
        "from google.colab import drive\n",
        "drive.mount('/content/drive')"
      ],
      "execution_count": 1,
      "outputs": [
        {
          "output_type": "stream",
          "text": [
            "Mounted at /content/drive\n"
          ],
          "name": "stdout"
        }
      ]
    },
    {
      "cell_type": "code",
      "metadata": {
        "colab": {
          "base_uri": "https://localhost:8080/",
          "height": 380
        },
        "id": "BOudnPr6dRmv",
        "outputId": "d65d480a-493d-48b7-c241-57b4af39e360"
      },
      "source": [
        "import pandas as pd\n",
        "import matplotlib.pyplot as plt\n",
        "import numpy as np\n",
        "\n",
        "data = pd.read_csv('/content/drive/My Drive/openpowerlifting.csv', index_col=0)\n",
        "\n",
        "data.head()"
      ],
      "execution_count": 3,
      "outputs": [
        {
          "output_type": "stream",
          "text": [
            "/usr/local/lib/python3.6/dist-packages/IPython/core/interactiveshell.py:2718: DtypeWarning: Columns (35) have mixed types.Specify dtype option on import or set low_memory=False.\n",
            "  interactivity=interactivity, compiler=compiler, result=result)\n"
          ],
          "name": "stderr"
        },
        {
          "output_type": "execute_result",
          "data": {
            "text/html": [
              "<div>\n",
              "<style scoped>\n",
              "    .dataframe tbody tr th:only-of-type {\n",
              "        vertical-align: middle;\n",
              "    }\n",
              "\n",
              "    .dataframe tbody tr th {\n",
              "        vertical-align: top;\n",
              "    }\n",
              "\n",
              "    .dataframe thead th {\n",
              "        text-align: right;\n",
              "    }\n",
              "</style>\n",
              "<table border=\"1\" class=\"dataframe\">\n",
              "  <thead>\n",
              "    <tr style=\"text-align: right;\">\n",
              "      <th></th>\n",
              "      <th>Sex</th>\n",
              "      <th>Event</th>\n",
              "      <th>Equipment</th>\n",
              "      <th>Age</th>\n",
              "      <th>AgeClass</th>\n",
              "      <th>Division</th>\n",
              "      <th>BodyweightKg</th>\n",
              "      <th>WeightClassKg</th>\n",
              "      <th>Squat1Kg</th>\n",
              "      <th>Squat2Kg</th>\n",
              "      <th>Squat3Kg</th>\n",
              "      <th>Squat4Kg</th>\n",
              "      <th>Best3SquatKg</th>\n",
              "      <th>Bench1Kg</th>\n",
              "      <th>Bench2Kg</th>\n",
              "      <th>Bench3Kg</th>\n",
              "      <th>Bench4Kg</th>\n",
              "      <th>Best3BenchKg</th>\n",
              "      <th>Deadlift1Kg</th>\n",
              "      <th>Deadlift2Kg</th>\n",
              "      <th>Deadlift3Kg</th>\n",
              "      <th>Deadlift4Kg</th>\n",
              "      <th>Best3DeadliftKg</th>\n",
              "      <th>TotalKg</th>\n",
              "      <th>Place</th>\n",
              "      <th>Wilks</th>\n",
              "      <th>McCulloch</th>\n",
              "      <th>Glossbrenner</th>\n",
              "      <th>IPFPoints</th>\n",
              "      <th>Tested</th>\n",
              "      <th>Country</th>\n",
              "      <th>Federation</th>\n",
              "      <th>Date</th>\n",
              "      <th>MeetCountry</th>\n",
              "      <th>MeetState</th>\n",
              "      <th>MeetName</th>\n",
              "    </tr>\n",
              "    <tr>\n",
              "      <th>Name</th>\n",
              "      <th></th>\n",
              "      <th></th>\n",
              "      <th></th>\n",
              "      <th></th>\n",
              "      <th></th>\n",
              "      <th></th>\n",
              "      <th></th>\n",
              "      <th></th>\n",
              "      <th></th>\n",
              "      <th></th>\n",
              "      <th></th>\n",
              "      <th></th>\n",
              "      <th></th>\n",
              "      <th></th>\n",
              "      <th></th>\n",
              "      <th></th>\n",
              "      <th></th>\n",
              "      <th></th>\n",
              "      <th></th>\n",
              "      <th></th>\n",
              "      <th></th>\n",
              "      <th></th>\n",
              "      <th></th>\n",
              "      <th></th>\n",
              "      <th></th>\n",
              "      <th></th>\n",
              "      <th></th>\n",
              "      <th></th>\n",
              "      <th></th>\n",
              "      <th></th>\n",
              "      <th></th>\n",
              "      <th></th>\n",
              "      <th></th>\n",
              "      <th></th>\n",
              "      <th></th>\n",
              "      <th></th>\n",
              "    </tr>\n",
              "  </thead>\n",
              "  <tbody>\n",
              "    <tr>\n",
              "      <th>Abbie Murphy</th>\n",
              "      <td>F</td>\n",
              "      <td>SBD</td>\n",
              "      <td>Wraps</td>\n",
              "      <td>29.0</td>\n",
              "      <td>24-34</td>\n",
              "      <td>F-OR</td>\n",
              "      <td>59.8</td>\n",
              "      <td>60</td>\n",
              "      <td>80.0</td>\n",
              "      <td>92.5</td>\n",
              "      <td>105.0</td>\n",
              "      <td>NaN</td>\n",
              "      <td>105.0</td>\n",
              "      <td>45.0</td>\n",
              "      <td>50.0</td>\n",
              "      <td>55.0</td>\n",
              "      <td>NaN</td>\n",
              "      <td>55.0</td>\n",
              "      <td>110.0</td>\n",
              "      <td>120.0</td>\n",
              "      <td>130.0</td>\n",
              "      <td>NaN</td>\n",
              "      <td>130.0</td>\n",
              "      <td>290.0</td>\n",
              "      <td>4</td>\n",
              "      <td>324.16</td>\n",
              "      <td>324.16</td>\n",
              "      <td>286.42</td>\n",
              "      <td>511.15</td>\n",
              "      <td>NaN</td>\n",
              "      <td>NaN</td>\n",
              "      <td>GPC-AUS</td>\n",
              "      <td>2018-10-27</td>\n",
              "      <td>Australia</td>\n",
              "      <td>VIC</td>\n",
              "      <td>Melbourne Cup</td>\n",
              "    </tr>\n",
              "    <tr>\n",
              "      <th>Abbie Tuong</th>\n",
              "      <td>F</td>\n",
              "      <td>SBD</td>\n",
              "      <td>Wraps</td>\n",
              "      <td>29.0</td>\n",
              "      <td>24-34</td>\n",
              "      <td>F-OR</td>\n",
              "      <td>58.5</td>\n",
              "      <td>60</td>\n",
              "      <td>100.0</td>\n",
              "      <td>110.0</td>\n",
              "      <td>120.0</td>\n",
              "      <td>NaN</td>\n",
              "      <td>120.0</td>\n",
              "      <td>55.0</td>\n",
              "      <td>62.5</td>\n",
              "      <td>67.5</td>\n",
              "      <td>NaN</td>\n",
              "      <td>67.5</td>\n",
              "      <td>130.0</td>\n",
              "      <td>140.0</td>\n",
              "      <td>145.0</td>\n",
              "      <td>NaN</td>\n",
              "      <td>145.0</td>\n",
              "      <td>332.5</td>\n",
              "      <td>2</td>\n",
              "      <td>378.07</td>\n",
              "      <td>378.07</td>\n",
              "      <td>334.16</td>\n",
              "      <td>595.65</td>\n",
              "      <td>NaN</td>\n",
              "      <td>NaN</td>\n",
              "      <td>GPC-AUS</td>\n",
              "      <td>2018-10-27</td>\n",
              "      <td>Australia</td>\n",
              "      <td>VIC</td>\n",
              "      <td>Melbourne Cup</td>\n",
              "    </tr>\n",
              "    <tr>\n",
              "      <th>Ainslee Hooper</th>\n",
              "      <td>F</td>\n",
              "      <td>B</td>\n",
              "      <td>Raw</td>\n",
              "      <td>40.0</td>\n",
              "      <td>40-44</td>\n",
              "      <td>F-OR</td>\n",
              "      <td>55.4</td>\n",
              "      <td>56</td>\n",
              "      <td>NaN</td>\n",
              "      <td>NaN</td>\n",
              "      <td>NaN</td>\n",
              "      <td>NaN</td>\n",
              "      <td>NaN</td>\n",
              "      <td>27.5</td>\n",
              "      <td>32.5</td>\n",
              "      <td>-35.0</td>\n",
              "      <td>NaN</td>\n",
              "      <td>32.5</td>\n",
              "      <td>NaN</td>\n",
              "      <td>NaN</td>\n",
              "      <td>NaN</td>\n",
              "      <td>NaN</td>\n",
              "      <td>NaN</td>\n",
              "      <td>32.5</td>\n",
              "      <td>1</td>\n",
              "      <td>38.56</td>\n",
              "      <td>38.56</td>\n",
              "      <td>34.12</td>\n",
              "      <td>313.97</td>\n",
              "      <td>NaN</td>\n",
              "      <td>NaN</td>\n",
              "      <td>GPC-AUS</td>\n",
              "      <td>2018-10-27</td>\n",
              "      <td>Australia</td>\n",
              "      <td>VIC</td>\n",
              "      <td>Melbourne Cup</td>\n",
              "    </tr>\n",
              "    <tr>\n",
              "      <th>Amy Moldenhauer</th>\n",
              "      <td>F</td>\n",
              "      <td>SBD</td>\n",
              "      <td>Wraps</td>\n",
              "      <td>23.0</td>\n",
              "      <td>20-23</td>\n",
              "      <td>F-OR</td>\n",
              "      <td>60.0</td>\n",
              "      <td>60</td>\n",
              "      <td>-105.0</td>\n",
              "      <td>-105.0</td>\n",
              "      <td>105.0</td>\n",
              "      <td>NaN</td>\n",
              "      <td>105.0</td>\n",
              "      <td>67.5</td>\n",
              "      <td>72.5</td>\n",
              "      <td>-75.0</td>\n",
              "      <td>NaN</td>\n",
              "      <td>72.5</td>\n",
              "      <td>132.5</td>\n",
              "      <td>-140.0</td>\n",
              "      <td>-140.0</td>\n",
              "      <td>NaN</td>\n",
              "      <td>132.5</td>\n",
              "      <td>310.0</td>\n",
              "      <td>3</td>\n",
              "      <td>345.61</td>\n",
              "      <td>345.61</td>\n",
              "      <td>305.37</td>\n",
              "      <td>547.04</td>\n",
              "      <td>NaN</td>\n",
              "      <td>NaN</td>\n",
              "      <td>GPC-AUS</td>\n",
              "      <td>2018-10-27</td>\n",
              "      <td>Australia</td>\n",
              "      <td>VIC</td>\n",
              "      <td>Melbourne Cup</td>\n",
              "    </tr>\n",
              "    <tr>\n",
              "      <th>Andrea Rowan</th>\n",
              "      <td>F</td>\n",
              "      <td>SBD</td>\n",
              "      <td>Wraps</td>\n",
              "      <td>45.0</td>\n",
              "      <td>45-49</td>\n",
              "      <td>F-OR</td>\n",
              "      <td>104.0</td>\n",
              "      <td>110</td>\n",
              "      <td>120.0</td>\n",
              "      <td>130.0</td>\n",
              "      <td>140.0</td>\n",
              "      <td>NaN</td>\n",
              "      <td>140.0</td>\n",
              "      <td>70.0</td>\n",
              "      <td>75.0</td>\n",
              "      <td>80.0</td>\n",
              "      <td>NaN</td>\n",
              "      <td>80.0</td>\n",
              "      <td>150.0</td>\n",
              "      <td>160.0</td>\n",
              "      <td>170.0</td>\n",
              "      <td>NaN</td>\n",
              "      <td>170.0</td>\n",
              "      <td>390.0</td>\n",
              "      <td>3</td>\n",
              "      <td>321.25</td>\n",
              "      <td>338.91</td>\n",
              "      <td>274.56</td>\n",
              "      <td>550.08</td>\n",
              "      <td>NaN</td>\n",
              "      <td>NaN</td>\n",
              "      <td>GPC-AUS</td>\n",
              "      <td>2018-10-27</td>\n",
              "      <td>Australia</td>\n",
              "      <td>VIC</td>\n",
              "      <td>Melbourne Cup</td>\n",
              "    </tr>\n",
              "  </tbody>\n",
              "</table>\n",
              "</div>"
            ],
            "text/plain": [
              "                Sex Event Equipment  ...  MeetCountry MeetState       MeetName\n",
              "Name                                 ...                                      \n",
              "Abbie Murphy      F   SBD     Wraps  ...    Australia       VIC  Melbourne Cup\n",
              "Abbie Tuong       F   SBD     Wraps  ...    Australia       VIC  Melbourne Cup\n",
              "Ainslee Hooper    F     B       Raw  ...    Australia       VIC  Melbourne Cup\n",
              "Amy Moldenhauer   F   SBD     Wraps  ...    Australia       VIC  Melbourne Cup\n",
              "Andrea Rowan      F   SBD     Wraps  ...    Australia       VIC  Melbourne Cup\n",
              "\n",
              "[5 rows x 36 columns]"
            ]
          },
          "metadata": {
            "tags": []
          },
          "execution_count": 3
        }
      ]
    },
    {
      "cell_type": "code",
      "metadata": {
        "colab": {
          "base_uri": "https://localhost:8080/",
          "height": 313
        },
        "id": "z6YKSF0blJyL",
        "outputId": "2ebe105a-43d2-497d-c18b-0849b5efe38e"
      },
      "source": [
        "total_kg = data['TotalKg'].values\n",
        "age = data['Age'].values\n",
        "\n",
        "plt.scatter(age, total_kg, alpha=0.3)\n",
        "\n",
        "plt.xlabel('Age')\n",
        "plt.ylabel('Total kg')\n",
        "plt.title('Total kg by age')"
      ],
      "execution_count": 18,
      "outputs": [
        {
          "output_type": "execute_result",
          "data": {
            "text/plain": [
              "Text(0.5, 1.0, 'Total kg by age')"
            ]
          },
          "metadata": {
            "tags": []
          },
          "execution_count": 18
        },
        {
          "output_type": "display_data",
          "data": {
            "image/png": "[encoded data removed]",
            "text/plain": [
              "<Figure size 432x288 with 1 Axes>"
            ]
          },
          "metadata": {
            "tags": [],
            "needs_background": "light"
          }
        }
      ]
    },
    {
      "cell_type": "markdown",
      "metadata": {
        "id": "mqpmCPIUnxBg"
      },
      "source": [
        "Молодые люди оказываются сильнее"
      ]
    },
    {
      "cell_type": "code",
      "metadata": {
        "colab": {
          "base_uri": "https://localhost:8080/",
          "height": 313
        },
        "id": "fiR0jcqhnRTU",
        "outputId": "2323e9ff-813f-41bd-a5d2-e859faac6a53"
      },
      "source": [
        "body_weight_kg = data['BodyweightKg'].values\n",
        "age = data['Age'].values\n",
        "\n",
        "plt.scatter(age, body_weight_kg, alpha=0.3)\n",
        "\n",
        "plt.xlabel('Age')\n",
        "plt.ylabel('Body weight')\n",
        "plt.title('Body weight by age')"
      ],
      "execution_count": 19,
      "outputs": [
        {
          "output_type": "execute_result",
          "data": {
            "text/plain": [
              "Text(0.5, 1.0, 'Body weight by age')"
            ]
          },
          "metadata": {
            "tags": []
          },
          "execution_count": 19
        },
        {
          "output_type": "display_data",
          "data": {
            "image/png": "[encoded data removed]",
            "text/plain": [
              "<Figure size 432x288 with 1 Axes>"
            ]
          },
          "metadata": {
            "tags": [],
            "needs_background": "light"
          }
        }
      ]
    },
    {
      "cell_type": "code",
      "metadata": {
        "colab": {
          "base_uri": "https://localhost:8080/",
          "height": 449
        },
        "id": "lNKI5LOwoIht",
        "outputId": "3b03c3a1-32e6-48ee-9b19-f0834bc518f4"
      },
      "source": [
        "\n",
        "\n",
        "gender = np.unique(data['Sex'].values, return_counts=True)  \n",
        "gender_count = len(gender[0]) \n",
        "\n",
        "plt.rcdefaults()\n",
        "fig, ax = plt.subplots()\n",
        "\n",
        "df = pd.DataFrame({\n",
        "    'Genders': gender[0],\n",
        "    'counts': gender[1]\n",
        "}).sort_values(by=['counts'])\n",
        "\n",
        "genders = df['Genders'][::-1]\n",
        "counts = df.counts[::-1]\n",
        "\n",
        "positions = np.arange(gender_count)\n",
        "\n",
        "ax.barh(positions, counts, align='center', color='green', ecolor='black')\n",
        "ax.set_yticks(positions)\n",
        "ax.set_yticklabels(genders)\n",
        "ax.invert_yaxis()  \n",
        "ax.set_xlabel('Count')\n",
        "\n",
        "plt.show()\n",
        "\n"
      ],
      "execution_count": 24,
      "outputs": [
        {
          "output_type": "display_data",
          "data": {
            "image/png": "[encoded data removed]",
            "text/plain": [
              "<Figure size 640x480 with 1 Axes>"
            ]
          },
          "metadata": {
            "tags": []
          }
        }
      ]
    },
    {
      "cell_type": "markdown",
      "metadata": {
        "id": "LP-4tR1Jo2Od"
      },
      "source": [
        "Мужчин повер-лифтеров больше чем женщин"
      ]
    }
  ]
}